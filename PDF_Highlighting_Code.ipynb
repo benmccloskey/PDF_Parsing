{
  "nbformat": 4,
  "nbformat_minor": 0,
  "metadata": {
    "colab": {
      "provenance": [],
      "mount_file_id": "1ErYz0HHhczYZPy1RqE6tpactefSrs6f-",
      "authorship_tag": "ABX9TyMF7OsSnx9S8e5hvDYGbOgd",
      "include_colab_link": true
    },
    "kernelspec": {
      "name": "python3",
      "display_name": "Python 3"
    },
    "language_info": {
      "name": "python"
    }
  },
  "cells": [
    {
      "cell_type": "markdown",
      "metadata": {
        "id": "view-in-github",
        "colab_type": "text"
      },
      "source": [
        "<a href=\"https://colab.research.google.com/github/benmccloskey/PDF_Parsing/blob/main/PDF_Highlighting_Code.ipynb\" target=\"_parent\"><img src=\"https://colab.research.google.com/assets/colab-badge.svg\" alt=\"Open In Colab\"/></a>"
      ]
    },
    {
      "cell_type": "code",
      "execution_count": null,
      "metadata": {
        "colab": {
          "base_uri": "https://localhost:8080/"
        },
        "id": "ydnYIYy42YEc",
        "outputId": "e1541b22-07de-4a4d-d0bc-fffb6f727b68"
      },
      "outputs": [
        {
          "output_type": "stream",
          "name": "stdout",
          "text": [
            "Collecting PyMuPDF\n",
            "  Downloading PyMuPDF-1.22.5-cp310-cp310-manylinux_2_17_x86_64.manylinux2014_x86_64.whl (14.1 MB)\n",
            "\u001b[2K     \u001b[90m━━━━━━━━━━━━━━━━━━━━━━━━━━━━━━━━━━━━━━━━\u001b[0m \u001b[32m14.1/14.1 MB\u001b[0m \u001b[31m29.0 MB/s\u001b[0m eta \u001b[36m0:00:00\u001b[0m\n",
            "\u001b[?25hInstalling collected packages: PyMuPDF\n",
            "Successfully installed PyMuPDF-1.22.5\n"
          ]
        }
      ],
      "source": [
        "!pip install PyMuPDF"
      ]
    },
    {
      "cell_type": "code",
      "source": [
        "import fitz"
      ],
      "metadata": {
        "id": "_-701_pF2aUz"
      },
      "execution_count": null,
      "outputs": []
    },
    {
      "cell_type": "code",
      "source": [
        "def highlight_terms(input_pdf_path, output_pdf_path, terms_to_highlight):\n",
        "    # Open the PDF file\n",
        "    pdf_document = fitz.open(input_pdf_path)\n",
        "\n",
        "    for page_number in range(len(pdf_document)):\n",
        "        page = pdf_document[page_number]\n",
        "        # Get the text on the page\n",
        "        text = page.get_text()\n",
        "\n",
        "        for term in terms_to_highlight:\n",
        "            term_instances = page.search_for(term)\n",
        "            for term_rect in term_instances:\n",
        "                # Create a highlight annotation\n",
        "                highlight = page.add_highlight_annot(term_rect)\n",
        "                # Set the color of the highlight (e.g., yellow)\n",
        "                highlight.set_colors(stroke=(1, 1, 0))\n",
        "                # Set the opacity of the highlight (0 to 1)\n",
        "                highlight.set_opacity(0.5)\n",
        "\n",
        "    # Save the modified PDF\n",
        "    pdf_document.save(output_pdf_path)\n",
        "    pdf_document.close()"
      ],
      "metadata": {
        "id": "T2HvNn822ldP"
      },
      "execution_count": null,
      "outputs": []
    },
    {
      "cell_type": "code",
      "source": [
        "if __name__ == \"__main__\":\n",
        "    input_pdf_path = \"/content/AlexNet Paper.pdf\"  # Replace with your input PDF file path\n",
        "    output_pdf_path = \"/content/output.pdf\"  # Replace with your output PDF file path\n",
        "    terms_to_highlight = [\"networks\", \"network\"]  # Add the terms you want to highlight\n",
        "\n",
        "    highlight_terms(input_pdf_path, output_pdf_path, terms_to_highlight)"
      ],
      "metadata": {
        "id": "MuPNlWym2pwe"
      },
      "execution_count": null,
      "outputs": []
    },
    {
      "cell_type": "markdown",
      "source": [
        "## The code below does term frequenct"
      ],
      "metadata": {
        "id": "yBXLwyqVAIv3"
      }
    },
    {
      "cell_type": "code",
      "source": [
        "import fitz  # PyMuPDF\n",
        "from collections import Counter\n",
        "\n",
        "def highlight_terms_and_count(input_pdf_path, output_pdf_path, terms_to_highlight, output_text_file):\n",
        "    # Open the PDF file\n",
        "    pdf_document = fitz.open(input_pdf_path)\n",
        "    term_counter = Counter()\n",
        "\n",
        "    for page_number in range(len(pdf_document)):\n",
        "        page = pdf_document[page_number]\n",
        "        # Get the text on the page\n",
        "        text = page.get_text()\n",
        "\n",
        "        for term in terms_to_highlight:\n",
        "            term_instances = page.search_for(term)\n",
        "            term_counter[term] += len(term_instances)  # Count term instances on this page\n",
        "\n",
        "            for term_rect in term_instances:\n",
        "                # Create a highlight annotation\n",
        "                highlight = page.add_highlight_annot(term_rect)\n",
        "                # Set the color of the highlight (e.g., yellow)\n",
        "                highlight.set_colors(stroke=(1, 1, 0))\n",
        "                # Set the opacity of the highlight (0 to 1)\n",
        "                highlight.set_opacity(0.5)\n",
        "\n",
        "    # Save the modified PDF\n",
        "    pdf_document.save(output_pdf_path)\n",
        "    pdf_document.close()\n",
        "\n",
        "    # Save term frequencies to a text file\n",
        "    with open(output_text_file, 'w') as text_file:\n",
        "        for term, frequency in term_counter.items():\n",
        "            text_file.write(f\"{term}: {frequency}\\n\")\n",
        "\n",
        "if __name__ == \"__main__\":\n",
        "    input_pdf_path = \"/content/AlexNet Paper.pdf\"  # Replace with your input PDF file\n",
        "    output_pdf_path = \"/content/output.pdf\"  # Replace with your output PDF file\n",
        "    terms_to_highlight = [\"neural\", \"networks\"]  # Add the terms you want to highlight\n",
        "    output_text_file = \"/content/term_frequencies.txt\"  # Text file to store term frequencies\n",
        "\n",
        "    highlight_terms_and_count(input_pdf_path, output_pdf_path, terms_to_highlight, output_text_file)\n"
      ],
      "metadata": {
        "id": "DxAIwFHD4t2S"
      },
      "execution_count": null,
      "outputs": []
    },
    {
      "cell_type": "code",
      "source": [],
      "metadata": {
        "id": "1grXyUxe_uZM"
      },
      "execution_count": null,
      "outputs": []
    }
  ]
}